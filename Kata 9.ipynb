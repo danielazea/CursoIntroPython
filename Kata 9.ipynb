{
 "cells": [
  {
   "cell_type": "markdown",
   "metadata": {},
   "source": [
    "## Ejercicio: Uso de funciones en Python\n",
    "En este ejercicio, construirás un informe de combustible que requiere información de varias ubicaciones de combustible en todo el cohete."
   ]
  },
  {
   "cell_type": "code",
   "execution_count": 6,
   "metadata": {},
   "outputs": [
    {
     "name": "stdout",
     "output_type": "stream",
     "text": [
      "combustible:\n",
      "    Promedio : 40.0%\n",
      "    Primero: 30%\n",
      "    Segundo: 40%\n",
      "    Tercero: 50%\n",
      "    \n",
      "Combustible:\n",
      "    Promedio: 46.0%\n",
      "    Primero: 36%\n",
      "    Segundo: 46%\n",
      "    Tercero: 56% \n",
      "    \n"
     ]
    }
   ],
   "source": [
    "# Función para leer 3 tanques de combustible y muestre el promedio\n",
    "def tanques(tanque1, tanque2, tanque3):\n",
    "    tanques = (tanque1 + tanque2 + tanque3) / 3\n",
    "    return f\"\"\"combustible:\n",
    "    Promedio : {tanques}%\n",
    "    Primero: {tanque1}%\n",
    "    Segundo: {tanque2}%\n",
    "    Tercero: {tanque3}%\n",
    "    \"\"\"\n",
    "# Llamamos a la función que genera el reporte print(funcion(tanque1, tanque2, tanque3))\n",
    "print(tanques(30, 40, 50))\n",
    "\n",
    "\n",
    "# Función promedio \n",
    "def promTotal(values):\n",
    "    total = sum(values)\n",
    "    valores = len(values)\n",
    "    return total / valores\n",
    "promTotal([55, 65, 85])\n",
    "\n",
    "# Actualiza la función\n",
    "def tanques(tanque1, tanque2, tanque3):\n",
    "    return f\"\"\"Combustible:\n",
    "    Promedio: {promTotal([tanque1, tanque2, tanque3])}%\n",
    "    Primero: {tanque1}%\n",
    "    Segundo: {tanque2}%\n",
    "    Tercero: {tanque3}% \n",
    "    \"\"\"\n",
    "print(tanques(36, 46, 56))"
   ]
  },
  {
   "cell_type": "markdown",
   "metadata": {},
   "source": [
    "## Ejercicio 2: Trabajo con argumentos de palabra clave\n",
    "En este ejercicio, construirás un informe de cohete que requiere varias piezas de información, como el tiempo hasta el destino, el combustible a la izquierda y el nombre del destino.\n"
   ]
  },
  {
   "cell_type": "code",
   "execution_count": 19,
   "metadata": {},
   "outputs": [
    {
     "name": "stdout",
     "output_type": "stream",
     "text": [
      "\n",
      "    Misión a Luna\n",
      "    Tiempo al destino: 120 minutos\n",
      "    Combustible restante: 100000 galones\n",
      "    \n",
      "\n",
      "    Misión a Luna\n",
      "    Tiempo al destino: 100188 minutos\n",
      "    Combustible restante: 0\n",
      "    \n",
      "\n",
      "    Misión a Luna\n",
      "    Tiempo al destino: 100188 minutos\n",
      "    Combustible restante: 0\n",
      "    \n"
     ]
    }
   ],
   "source": [
    "# Función con un informe preciso de la misión. Considera hora de prelanzamiento, tiempo de vuelo, destino, tanque externo y tanque interno\n",
    "def reporteMision(prelanzamiento, tiempoVuelo, destino, tanqueExt, tanqueInt):\n",
    "    return f\"\"\"\n",
    "    Misión a {destino}\n",
    "    Tiempo al destino: {prelanzamiento + tiempoVuelo} minutos\n",
    "    Combustible restante: {tanqueExt + tanqueInt} galones\n",
    "    \"\"\"\n",
    "\n",
    "print(reporteMision(78, 42, \"Luna\", 80000, 20000))\n",
    "\n",
    "\n",
    "# Escribe tu nueva función de reporte considerando lo anterior\n",
    "def reporteMision(destino, *minutos, **reservaCombustible):\n",
    "    return f\"\"\"\n",
    "    Misión a {destino}\n",
    "    Tiempo al destino: {sum(minutos)} minutos\n",
    "    Combustible restante: {sum(reservaCombustible.values())}\n",
    "    \"\"\"\n",
    "\n",
    "print(reporteMision(\"Luna\", 78, 42, 68, 80000, 20000))\n",
    "\n",
    "\n",
    "\n",
    "# Escribe tu nueva función\n",
    "def reporteMision(destino, *minutos, **reservaCombustible):\n",
    "    reporte = f\"\"\"\n",
    "    Misión a {destino}\n",
    "    Tiempo al destino: {sum(minutos)} minutos\n",
    "    Combustible restante: {sum(reservaCombustible.values())}\n",
    "    \"\"\"\n",
    "    for nombreTanque, galones in reservaCombustible.items():\n",
    "        reporte += f\"{nombreTanque} tanque --> {galones} galones quedan\\n\"\n",
    "    return reporte\n",
    "\n",
    "print(reporteMision(\"Luna\", 78, 42, 68, 80000, 20000))"
   ]
  }
 ],
 "metadata": {
  "interpreter": {
   "hash": "ef7b0a39cfff2128b2ac8223128667f3da1d4f4b108c60e6972fe304dd99adc8"
  },
  "kernelspec": {
   "display_name": "Python 3.10.2 64-bit (windows store)",
   "language": "python",
   "name": "python3"
  },
  "language_info": {
   "codemirror_mode": {
    "name": "ipython",
    "version": 3
   },
   "file_extension": ".py",
   "mimetype": "text/x-python",
   "name": "python",
   "nbconvert_exporter": "python",
   "pygments_lexer": "ipython3",
   "version": "3.10.2"
  },
  "orig_nbformat": 4
 },
 "nbformat": 4,
 "nbformat_minor": 2
}
