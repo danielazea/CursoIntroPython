{
 "cells": [
  {
   "cell_type": "markdown",
   "metadata": {},
   "source": [
    "## Ejercicio 1: Crear y usar listas de Python\n",
    "Comenzarás un proyecto sobre información planetaria creando una lista de planetas."
   ]
  },
  {
   "cell_type": "code",
   "execution_count": 6,
   "metadata": {},
   "outputs": [
    {
     "name": "stdout",
     "output_type": "stream",
     "text": [
      "['Mercurio', 'Venus', 'Tierra', 'Marte', 'Jupiter', 'Saturno', 'Urano', 'Neptuno']\n"
     ]
    }
   ],
   "source": [
    "# Creamos la lista planets y la mostramos\n",
    "planetas = ['Mercurio', 'Venus', 'Tierra', 'Marte', 'Jupiter', 'Saturno', 'Urano', 'Neptuno']\n",
    "print(planetas)"
   ]
  },
  {
   "cell_type": "code",
   "execution_count": 7,
   "metadata": {},
   "outputs": [
    {
     "name": "stdout",
     "output_type": "stream",
     "text": [
      "['Mercurio', 'Venus', 'Tierra', 'Marte', 'Jupiter', 'Saturno', 'Urano', 'Neptuno', 'Plutón']\n",
      "Plutón\n"
     ]
    }
   ],
   "source": [
    "planetas.append('Plutón')\n",
    "print(planetas)\n",
    "print(planetas[-1])"
   ]
  },
  {
   "cell_type": "markdown",
   "metadata": {},
   "source": [
    "## Ejercicio 2: Trabajando con datos de una lista\n",
    "Usar slices para recuperar partes de una lista"
   ]
  },
  {
   "cell_type": "code",
   "execution_count": 12,
   "metadata": {},
   "outputs": [
    {
     "name": "stdout",
     "output_type": "stream",
     "text": [
      "The planet  Jupiter  is the  5  planet from the sun. But the planets that are closer to the sun are  ['Mercury', 'Venus', 'Earth', 'Mars']\n",
      "The planet  Jupiter  is the  5  planet from the sun. But the planets that are further to the sun are  ['Saturn', 'Neptune']\n"
     ]
    }
   ],
   "source": [
    "# Lista de planetas\n",
    "planets = ['Mercury', 'Venus', 'Earth', 'Mars', 'Jupiter', 'Saturn', 'Neptune']\n",
    "\n",
    "# Solicitamos el nombre de un planeta *Pista:  input()*\n",
    "planetsUser = input('Please enter a planet. Be sure to start the name with capital letter.')\n",
    "\n",
    "# Busca el planeta en la lista\n",
    "planetIndex = planets.index(planetsUser)\n",
    "\n",
    "# Muestra los planetas más cercanos al sol\n",
    "planetSun = planets[0:planetIndex]\n",
    "\n",
    "print('The planet ', planetsUser, ' is the ', planetIndex + 1, ' planet from the sun. But the planets that are closer to the sun are ', planetSun )\n",
    "\n",
    "\n",
    "# Muestra los planetas más lejanos al sol\n",
    "planetFar = planets[planetIndex + 1: ]\n",
    "print('The planet ', planetsUser, ' is the ', planetIndex + 1, ' planet from the sun. But the planets that are further to the sun are ', planetFar )\n"
   ]
  },
  {
   "cell_type": "code",
   "execution_count": null,
   "metadata": {},
   "outputs": [],
   "source": []
  }
 ],
 "metadata": {
  "interpreter": {
   "hash": "ef7b0a39cfff2128b2ac8223128667f3da1d4f4b108c60e6972fe304dd99adc8"
  },
  "kernelspec": {
   "display_name": "Python 3.10.2 64-bit (windows store)",
   "language": "python",
   "name": "python3"
  },
  "language_info": {
   "codemirror_mode": {
    "name": "ipython",
    "version": 3
   },
   "file_extension": ".py",
   "mimetype": "text/x-python",
   "name": "python",
   "nbconvert_exporter": "python",
   "pygments_lexer": "ipython3",
   "version": "3.10.2"
  },
  "orig_nbformat": 4
 },
 "nbformat": 4,
 "nbformat_minor": 2
}
